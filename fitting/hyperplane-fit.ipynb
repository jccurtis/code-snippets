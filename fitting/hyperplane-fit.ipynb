{
 "cells": [
  {
   "cell_type": "code",
   "execution_count": 1,
   "metadata": {},
   "outputs": [
    {
     "name": "stdout",
     "output_type": "stream",
     "text": [
      "Populating the interactive namespace from numpy and matplotlib\n"
     ]
    }
   ],
   "source": [
    "%pylab inline\n",
    "import pandas as pd"
   ]
  },
  {
   "cell_type": "markdown",
   "metadata": {},
   "source": [
    "# Ordinary Least-Squares Regression for Linear System (Hyperplane)\n",
    "\n",
    "References:\n",
    "- http://mezeylab.cb.bscb.cornell.edu/labmembers/documents/supplement%205%20-%20multiple%20regression.pdf\n",
    "- https://en.wikipedia.org/wiki/Projection_matrix\n",
    "\n",
    "Each desired value $y_i$ can be predicted by some combination of observed values $x_j$:\n",
    "\n",
    "$$y_i = \\sum_j x_{ij} w_j + b_i$$\n",
    "\n",
    "The coefficients can be estimated with training data via:\n",
    "\n",
    "$$\\textbf{w}=(\\textbf{X}^{T}\\textbf{X})^{-1}\\textbf{X}^{T}\\textbf{y}$$\n",
    "\n"
   ]
  },
  {
   "cell_type": "code",
   "execution_count": 2,
   "metadata": {},
   "outputs": [],
   "source": [
    "def hyperplane_fit(y=None, X=None, data=None, y_name=None):\n",
    "    \"\"\"\n",
    "    Perform a least squares fit to y = w0*x0 + w1*x1 + ... + b\n",
    "\n",
    "    Parameters\n",
    "    ----------\n",
    "    y : array-like shape (n_observations)\n",
    "    X : array-like shape (n_observations, n_variables)\n",
    "    data : dataframe shape (n_observations, n_variables + 1)\n",
    "    y_name : string\n",
    "\n",
    "    Returns\n",
    "    -------\n",
    "    w : pd.Series shape (n_variables)\n",
    "        Weights\n",
    "    b : float\n",
    "        Offset\n",
    "    \"\"\"\n",
    "    # Variable extraction\n",
    "    if (data is not None) and (y_name is not None):\n",
    "        y = data[y_name].values\n",
    "        names = [c for c in data.columns if c != y_name]\n",
    "        X = data.loc[:, names].values\n",
    "    else:\n",
    "        if isinstance(y, pd.Series):\n",
    "            y = y.values\n",
    "        if isinstance(X, pd.DataFrame):\n",
    "            names = X.columns.values\n",
    "            X = X.values\n",
    "        else:\n",
    "            names = np.arange(X.shape[1])\n",
    "    # Add ones to the last column for the constant offset\n",
    "    X1 = np.hstack([X, np.ones(X.shape[0])[:, np.newaxis]])\n",
    "    # Ordinary least squares fit\n",
    "    coeff = np.dot(np.dot(np.linalg.inv(np.dot(X1.T, X1)), X1.T), y)\n",
    "    w = pd.Series(coeff[:X.shape[1]], index=names)\n",
    "    offset = coeff[-1]\n",
    "    return w, offset"
   ]
  },
  {
   "cell_type": "markdown",
   "metadata": {},
   "source": [
    "# Try with synthetic data"
   ]
  },
  {
   "cell_type": "code",
   "execution_count": 3,
   "metadata": {},
   "outputs": [
    {
     "data": {
      "text/html": [
       "<div>\n",
       "<style scoped>\n",
       "    .dataframe tbody tr th:only-of-type {\n",
       "        vertical-align: middle;\n",
       "    }\n",
       "\n",
       "    .dataframe tbody tr th {\n",
       "        vertical-align: top;\n",
       "    }\n",
       "\n",
       "    .dataframe thead th {\n",
       "        text-align: right;\n",
       "    }\n",
       "</style>\n",
       "<table border=\"1\" class=\"dataframe\">\n",
       "  <thead>\n",
       "    <tr style=\"text-align: right;\">\n",
       "      <th></th>\n",
       "      <th>x0</th>\n",
       "      <th>x1</th>\n",
       "      <th>y</th>\n",
       "    </tr>\n",
       "  </thead>\n",
       "  <tbody>\n",
       "    <tr>\n",
       "      <th>0</th>\n",
       "      <td>6.0</td>\n",
       "      <td>12.0</td>\n",
       "      <td>16.591820</td>\n",
       "    </tr>\n",
       "    <tr>\n",
       "      <th>1</th>\n",
       "      <td>10.0</td>\n",
       "      <td>8.0</td>\n",
       "      <td>18.209619</td>\n",
       "    </tr>\n",
       "    <tr>\n",
       "      <th>2</th>\n",
       "      <td>11.0</td>\n",
       "      <td>9.0</td>\n",
       "      <td>18.840562</td>\n",
       "    </tr>\n",
       "    <tr>\n",
       "      <th>3</th>\n",
       "      <td>3.0</td>\n",
       "      <td>5.0</td>\n",
       "      <td>7.154965</td>\n",
       "    </tr>\n",
       "    <tr>\n",
       "      <th>4</th>\n",
       "      <td>9.0</td>\n",
       "      <td>10.0</td>\n",
       "      <td>20.075139</td>\n",
       "    </tr>\n",
       "  </tbody>\n",
       "</table>\n",
       "</div>"
      ],
      "text/plain": [
       "     x0    x1          y\n",
       "0   6.0  12.0  16.591820\n",
       "1  10.0   8.0  18.209619\n",
       "2  11.0   9.0  18.840562\n",
       "3   3.0   5.0   7.154965\n",
       "4   9.0  10.0  20.075139"
      ]
     },
     "execution_count": 3,
     "metadata": {},
     "output_type": "execute_result"
    }
   ],
   "source": [
    "data = pd.DataFrame({'x0': np.random.poisson(10, 1000), \n",
    "                     'x1': np.random.poisson(10, 1000)}, dtype=float)\n",
    "data['y'] = data.sum(axis=1) + np.random.normal(0, 1, len(data))\n",
    "data.head()"
   ]
  },
  {
   "cell_type": "code",
   "execution_count": 4,
   "metadata": {},
   "outputs": [
    {
     "data": {
      "text/plain": [
       "<matplotlib.legend.Legend at 0x11a543208>"
      ]
     },
     "execution_count": 4,
     "metadata": {},
     "output_type": "execute_result"
    },
    {
     "data": {
      "image/png": "[encoded data removed]",
      "text/plain": [
       "<Figure size 432x288 with 1 Axes>"
      ]
     },
     "metadata": {},
     "output_type": "display_data"
    }
   ],
   "source": [
    "y = data.loc[:, 'y'].values\n",
    "X = data.loc[:, 'x0':'x1'].values\n",
    "w, b = hyperplane_fit(y, X)\n",
    "resd = y - (np.dot(X, w) + b)\n",
    "plot(resd, label='residual')\n",
    "plot(y, label='true')\n",
    "legend()"
   ]
  },
  {
   "cell_type": "code",
   "execution_count": 5,
   "metadata": {},
   "outputs": [],
   "source": [
    "w2, b2 = hyperplane_fit(y_name='y', data=data)\n",
    "assert np.array_equal(w2.values, w.values)\n",
    "assert np.array_equal(b2, b)"
   ]
  },
  {
   "cell_type": "code",
   "execution_count": null,
   "metadata": {},
   "outputs": [],
   "source": []
  }
 ],
 "metadata": {
  "kernelspec": {
   "display_name": "Python 3",
   "language": "python",
   "name": "python3"
  },
  "language_info": {
   "codemirror_mode": {
    "name": "ipython",
    "version": 3
   },
   "file_extension": ".py",
   "mimetype": "text/x-python",
   "name": "python",
   "nbconvert_exporter": "python",
   "pygments_lexer": "ipython3",
   "version": "3.6.5"
  }
 },
 "nbformat": 4,
 "nbformat_minor": 2
}
